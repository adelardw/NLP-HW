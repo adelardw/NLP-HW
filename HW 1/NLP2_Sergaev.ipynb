{
 "cells": [
  {
   "cell_type": "code",
   "execution_count": 1,
   "metadata": {},
   "outputs": [
    {
     "name": "stderr",
     "output_type": "stream",
     "text": [
      "[nltk_data] Downloading package wordnet to\n",
      "[nltk_data]     C:\\Users\\yaros\\AppData\\Roaming\\nltk_data...\n",
      "[nltk_data]   Package wordnet is already up-to-date!\n"
     ]
    },
    {
     "data": {
      "text/plain": [
       "True"
      ]
     },
     "execution_count": 1,
     "metadata": {},
     "output_type": "execute_result"
    }
   ],
   "source": [
    "import nltk\n",
    "import pandas as pd\n",
    "import numpy as np\n",
    "from sklearn.model_selection import train_test_split\n",
    "from sklearn import metrics\n",
    "from sklearn.feature_extraction.text import (TfidfVectorizer,\n",
    "                                             CountVectorizer)\n",
    "\n",
    "from sklearn.naive_bayes import (BernoulliNB,\n",
    "                                 GaussianNB,\n",
    "                                 MultinomialNB)\n",
    "from typing import (NoReturn,\n",
    "                    Union)\n",
    "nltk.download('wordnet')\n",
    "\n",
    "\n",
    "\n"
   ]
  },
  {
   "cell_type": "code",
   "execution_count": 2,
   "metadata": {},
   "outputs": [],
   "source": [
    "data = pd.read_csv(r'financial-news-sentiment.csv', decimal=',',sep=\";\",encoding='ansi')\n",
    "data = data[data.columns[:-2]]"
   ]
  },
  {
   "cell_type": "markdown",
   "metadata": {},
   "source": [
    "show info data выводит полную информацию о датасете: количество элементов в датасете на фиксированные класс, информацию о колонках, распределение классов"
   ]
  },
  {
   "cell_type": "code",
   "execution_count": 3,
   "metadata": {},
   "outputs": [
    {
     "name": "stdout",
     "output_type": "stream",
     "text": [
      "inforamtion about dataset: \n",
      "\n",
      "\n",
      "<class 'pandas.core.frame.DataFrame'>\n",
      "RangeIndex: 12424 entries, 0 to 12423\n",
      "Data columns (total 2 columns):\n",
      " #   Column  Non-Null Count  Dtype \n",
      "---  ------  --------------  ----- \n",
      " 0   text    12291 non-null  object\n",
      " 1   label   11934 non-null  object\n",
      "dtypes: object(2)\n",
      "memory usage: 194.2+ KB\n",
      "\n",
      "\n",
      " unique classes names: \n",
      " ['Bearish' 'Bullish' nan 'Neutral' ' Exp. -3MM'\n",
      " ' that\\'s actuallвЂ¦ https://t.co/fk7asQHL64\"'\n",
      " ' cashless self-order kiosks are leaving outвЂ¦ https://t.co/eDBearishY4vGNeutral5W\"'\n",
      " ' it would be iвЂ¦ https://t.co/9Vq8a8QY3g\"'\n",
      " ' 3Bullish are tech companies' 'вЂ¦ https://t.co/tW98HHQBearishhb\"'\n",
      " ' multifunвЂ¦ https://t.co/L4lHjDTMXc\"'\n",
      " ' Nasdaq VP and Head of Capital Markets'\n",
      " ' answered by @Jess_Shankleman https://t.co/V7NeutralzSgbNnc\"'\n",
      " \" celebrate 'Drygiving' with these non-boozy alternatives.\"\n",
      " ' the #NasdaqFam is setting the pace andвЂ¦ https://t.co/hFU6Y6EUBullisht\"'\n",
      " ' breaking 7 consecutive up weeksвЂ¦ https://t.co/kBearish4JSxx56R\"'\n",
      " 'Bullish3Bullish.98 points '\n",
      " ' theyвЂ™re finallyвЂ¦ https://t.co/sVmzdrN4ho\"' ' in all likelihood'\n",
      " ' well' ' I am off... https://t.co/uiJBearishiHFoUw\"'] \n",
      "\n",
      "\n",
      "Value counts\n",
      "Neutral                                                                                7732\n",
      "Bullish                                                                                2397\n",
      "Bearish                                                                                1788\n",
      " answered by @Jess_Shankleman https://t.co/V7NeutralzSgbNnc\"                              1\n",
      " well                                                                                     1\n",
      " in all likelihood                                                                        1\n",
      " theyвЂ™re finallyвЂ¦ https://t.co/sVmzdrN4ho\"                                            1\n",
      "Bullish3Bullish.98 points                                                                 1\n",
      " breaking 7 consecutive up weeksвЂ¦ https://t.co/kBearish4JSxx56R\"                        1\n",
      " the #NasdaqFam is setting the pace andвЂ¦ https://t.co/hFU6Y6EUBullisht\"                 1\n",
      " celebrate 'Drygiving' with these non-boozy alternatives.                                 1\n",
      " Nasdaq VP and Head of Capital Markets                                                    1\n",
      " multifunвЂ¦ https://t.co/L4lHjDTMXc\"                                                     1\n",
      "вЂ¦ https://t.co/tW98HHQBearishhb\"                                                        1\n",
      " 3Bullish are tech companies                                                              1\n",
      " it would be iвЂ¦ https://t.co/9Vq8a8QY3g\"                                                1\n",
      " cashless self-order kiosks are leaving outвЂ¦ https://t.co/eDBearishY4vGNeutral5W\"       1\n",
      " that's actuallвЂ¦ https://t.co/fk7asQHL64\"                                               1\n",
      " Exp. -3MM                                                                                1\n",
      " I am off... https://t.co/uiJBearishiHFoUw\"                                               1\n",
      "Name: label, dtype: int64 \n",
      "\n",
      "\n",
      "Classes distribution Figure(640x480)\n"
     ]
    },
    {
     "data": {
      "image/png": "[encoded data removed]",
      "text/plain": [
       "<Figure size 640x480 with 1 Axes>"
      ]
     },
     "metadata": {},
     "output_type": "display_data"
    }
   ],
   "source": [
    "def show_info_data(dataF: pd.DataFrame,\n",
    "                   show_n_elements: int = 5) -> NoReturn:\n",
    "    \n",
    "\n",
    "    print('inforamtion about dataset: \\n\\n')\n",
    "    data.info()\n",
    "    print('\\n\\n', 'unique classes names: \\n', data[data.columns[-1]].unique(), '\\n\\n')\n",
    "    print('Value counts')\n",
    "    print(data[data.columns[-1]].value_counts(),'\\n\\n')\n",
    "    print('Classes distribution', data[data.columns[-1]].hist().get_figure())\n",
    "\n",
    "show_info_data(data, show_n_elements = 8)"
   ]
  },
  {
   "cell_type": "markdown",
   "metadata": {},
   "source": [
    "Кодируем метки классы в int формат"
   ]
  },
  {
   "cell_type": "code",
   "execution_count": 4,
   "metadata": {},
   "outputs": [
    {
     "data": {
      "text/plain": [
       "array([0, 1, 2], dtype=int8)"
      ]
     },
     "execution_count": 4,
     "metadata": {},
     "output_type": "execute_result"
    }
   ],
   "source": [
    "def transform_label(dataF: pd.DataFrame,\n",
    "                label_name: str,\n",
    "                class_labels: np.array) -> pd.DataFrame:\n",
    "    \n",
    "    dataF[label_name] = dataF[label_name].apply(lambda text: text if text in class_labels else np.nan)\n",
    "    dataF.dropna(inplace=True)\n",
    "    dataF[label_name] = dataF[label_name].astype('category').cat.codes\n",
    "    return dataF\n",
    "\n",
    "classlabels = ['Bearish', 'Bullish','Neutral']\n",
    "labelname = 'label'\n",
    "clear_data_label = transform_label(data, label_name=labelname, class_labels=classlabels)\n",
    "clear_data_label['label'].astype('category').cat.codes.unique()"
   ]
  },
  {
   "cell_type": "code",
   "execution_count": 5,
   "metadata": {},
   "outputs": [
    {
     "name": "stdout",
     "output_type": "stream",
     "text": [
      "inforamtion about dataset: \n",
      "\n",
      "\n",
      "<class 'pandas.core.frame.DataFrame'>\n",
      "Int64Index: 11917 entries, 0 to 12423\n",
      "Data columns (total 2 columns):\n",
      " #   Column  Non-Null Count  Dtype \n",
      "---  ------  --------------  ----- \n",
      " 0   text    11917 non-null  object\n",
      " 1   label   11917 non-null  int8  \n",
      "dtypes: int8(1), object(1)\n",
      "memory usage: 197.8+ KB\n",
      "\n",
      "\n",
      " unique classes names: \n",
      " [0 1 2] \n",
      "\n",
      "\n",
      "Value counts\n",
      "2    7732\n",
      "1    2397\n",
      "0    1788\n",
      "Name: label, dtype: int64 \n",
      "\n",
      "\n",
      "Classes distribution Figure(640x480)\n"
     ]
    },
    {
     "data": {
      "image/png": "[encoded data removed]",
      "text/plain": [
       "<Figure size 640x480 with 1 Axes>"
      ]
     },
     "metadata": {},
     "output_type": "display_data"
    }
   ],
   "source": [
    "show_info_data(clear_data_label)"
   ]
  },
  {
   "cell_type": "markdown",
   "metadata": {},
   "source": [
    "Трансформируем фичи: избавляемся от ненужных символов, числовых значений, знаков препинания, лемматизируем и убираем стоп- слова"
   ]
  },
  {
   "cell_type": "code",
   "execution_count": 6,
   "metadata": {},
   "outputs": [
    {
     "name": "stdout",
     "output_type": "stream",
     "text": [
      "INFO: Pandarallel will run on 8 workers.\n",
      "INFO: Pandarallel will use standard multiprocessing data transfer (pipe) to transfer data between the main process and workers.\n",
      "\n",
      "WARNING: You are on Windows. If you detect any issue with pandarallel, be sure you checked out the Troubleshooting page:\n",
      "https://nalepae.github.io/pandarallel/troubleshooting/\n"
     ]
    },
    {
     "data": {
      "application/vnd.jupyter.widget-view+json": {
       "model_id": "78f83c9aa35749d9bac37cfb3908ec0f",
       "version_major": 2,
       "version_minor": 0
      },
      "text/plain": [
       "VBox(children=(HBox(children=(IntProgress(value=0, description='0.00%', max=1490), Label(value='0 / 1490'))), …"
      ]
     },
     "metadata": {},
     "output_type": "display_data"
    },
    {
     "data": {
      "application/vnd.jupyter.widget-view+json": {
       "model_id": "934bfe9f6e3945c4af2924d272d725a5",
       "version_major": 2,
       "version_minor": 0
      },
      "text/plain": [
       "VBox(children=(HBox(children=(IntProgress(value=0, description='0.00%', max=1490), Label(value='0 / 1490'))), …"
      ]
     },
     "metadata": {},
     "output_type": "display_data"
    },
    {
     "data": {
      "application/vnd.jupyter.widget-view+json": {
       "model_id": "b9e4a9c25f334e2ca304016c1ecd4f69",
       "version_major": 2,
       "version_minor": 0
      },
      "text/plain": [
       "VBox(children=(HBox(children=(IntProgress(value=0, description='0.00%', max=1490), Label(value='0 / 1490'))), …"
      ]
     },
     "metadata": {},
     "output_type": "display_data"
    },
    {
     "data": {
      "application/vnd.jupyter.widget-view+json": {
       "model_id": "91f68ec45c494384813ad627d4fd0e6c",
       "version_major": 2,
       "version_minor": 0
      },
      "text/plain": [
       "VBox(children=(HBox(children=(IntProgress(value=0, description='0.00%', max=1490), Label(value='0 / 1490'))), …"
      ]
     },
     "metadata": {},
     "output_type": "display_data"
    },
    {
     "data": {
      "text/html": [
       "<div>\n",
       "<style scoped>\n",
       "    .dataframe tbody tr th:only-of-type {\n",
       "        vertical-align: middle;\n",
       "    }\n",
       "\n",
       "    .dataframe tbody tr th {\n",
       "        vertical-align: top;\n",
       "    }\n",
       "\n",
       "    .dataframe thead th {\n",
       "        text-align: right;\n",
       "    }\n",
       "</style>\n",
       "<table border=\"1\" class=\"dataframe\">\n",
       "  <thead>\n",
       "    <tr style=\"text-align: right;\">\n",
       "      <th></th>\n",
       "      <th>text</th>\n",
       "      <th>label</th>\n",
       "    </tr>\n",
       "  </thead>\n",
       "  <tbody>\n",
       "    <tr>\n",
       "      <th>0</th>\n",
       "      <td>bynd jpmorgan reels expectations beyond meat h...</td>\n",
       "      <td>0</td>\n",
       "    </tr>\n",
       "    <tr>\n",
       "      <th>1</th>\n",
       "      <td>ccl rcl nomura points bookings weakness carniv...</td>\n",
       "      <td>0</td>\n",
       "    </tr>\n",
       "    <tr>\n",
       "      <th>2</th>\n",
       "      <td>cx cemex cut credit suisse j p morgan weak bui...</td>\n",
       "      <td>0</td>\n",
       "    </tr>\n",
       "    <tr>\n",
       "      <th>3</th>\n",
       "      <td>ess btig research cuts neutral https co mcyfts...</td>\n",
       "      <td>0</td>\n",
       "    </tr>\n",
       "    <tr>\n",
       "      <th>4</th>\n",
       "      <td>fnko funko slides piper jaffray pt cut https c...</td>\n",
       "      <td>0</td>\n",
       "    </tr>\n",
       "    <tr>\n",
       "      <th>...</th>\n",
       "      <td>...</td>\n",
       "      <td>...</td>\n",
       "    </tr>\n",
       "    <tr>\n",
       "      <th>12419</th>\n",
       "      <td>stocks making biggest moves midday td ameritra...</td>\n",
       "      <td>2</td>\n",
       "    </tr>\n",
       "    <tr>\n",
       "      <th>12420</th>\n",
       "      <td>stocks making biggest moves premarket fitbit x...</td>\n",
       "      <td>2</td>\n",
       "    </tr>\n",
       "    <tr>\n",
       "      <th>12421</th>\n",
       "      <td>stocks making biggest moves premarket home dep...</td>\n",
       "      <td>2</td>\n",
       "    </tr>\n",
       "    <tr>\n",
       "      <th>12422</th>\n",
       "      <td>stocks making biggest moves premarket td ameri...</td>\n",
       "      <td>2</td>\n",
       "    </tr>\n",
       "    <tr>\n",
       "      <th>12423</th>\n",
       "      <td>tco nnvc gpor je among midday movers</td>\n",
       "      <td>2</td>\n",
       "    </tr>\n",
       "  </tbody>\n",
       "</table>\n",
       "<p>11917 rows × 2 columns</p>\n",
       "</div>"
      ],
      "text/plain": [
       "                                                    text  label\n",
       "0      bynd jpmorgan reels expectations beyond meat h...      0\n",
       "1      ccl rcl nomura points bookings weakness carniv...      0\n",
       "2      cx cemex cut credit suisse j p morgan weak bui...      0\n",
       "3      ess btig research cuts neutral https co mcyfts...      0\n",
       "4      fnko funko slides piper jaffray pt cut https c...      0\n",
       "...                                                  ...    ...\n",
       "12419  stocks making biggest moves midday td ameritra...      2\n",
       "12420  stocks making biggest moves premarket fitbit x...      2\n",
       "12421  stocks making biggest moves premarket home dep...      2\n",
       "12422  stocks making biggest moves premarket td ameri...      2\n",
       "12423               tco nnvc gpor je among midday movers      2\n",
       "\n",
       "[11917 rows x 2 columns]"
      ]
     },
     "execution_count": 6,
     "metadata": {},
     "output_type": "execute_result"
    }
   ],
   "source": [
    "def lemmatize_feature_columns(dataF: pd.DataFrame,\n",
    "                              columns_to_transform: Union[list, np.array]) -> pd.DataFrame:\n",
    "    \n",
    "    stopwords = nltk.corpus.stopwords.words('english')\n",
    "    lemmatize = nltk.WordNetLemmatizer().lemmatize\n",
    "    #tokenize = nltk.word_tokenize\n",
    "\n",
    "    import pandarallel\n",
    "    from pandarallel import pandarallel\n",
    "    import re\n",
    "\n",
    "    pandarallel.initialize(progress_bar=True, nb_workers=8)\n",
    "\n",
    "    for columns in columns_to_transform:\n",
    "        \n",
    "        dataF[columns] = dataF[columns].parallel_apply(lambda text: re.sub(r'[^A-Za-z]' ,' ' ,text))\n",
    "        dataF[columns] = dataF[columns].parallel_apply(lambda text: text.split())\n",
    "        dataF[columns] = dataF[columns].parallel_apply(lambda text: ' '.join(filter(lambda t: t not in stopwords, text)))\n",
    "        dataF[columns] = dataF[columns].parallel_apply(lambda text: lemmatize(text).lower())\n",
    "\n",
    "    return data\n",
    "\n",
    "not_label_columns_to_transform = ['text']\n",
    "data = lemmatize_feature_columns(clear_data_label, columns_to_transform=not_label_columns_to_transform )\n",
    "data\n"
   ]
  },
  {
   "cell_type": "code",
   "execution_count": 7,
   "metadata": {},
   "outputs": [
    {
     "name": "stdout",
     "output_type": "stream",
     "text": [
      "inforamtion about dataset: \n",
      "\n",
      "\n",
      "<class 'pandas.core.frame.DataFrame'>\n",
      "Int64Index: 11917 entries, 0 to 12423\n",
      "Data columns (total 2 columns):\n",
      " #   Column  Non-Null Count  Dtype \n",
      "---  ------  --------------  ----- \n",
      " 0   text    11917 non-null  object\n",
      " 1   label   11917 non-null  int8  \n",
      "dtypes: int8(1), object(1)\n",
      "memory usage: 197.8+ KB\n",
      "\n",
      "\n",
      " unique classes names: \n",
      " [0 1 2] \n",
      "\n",
      "\n",
      "Value counts\n",
      "2    7732\n",
      "1    2397\n",
      "0    1788\n",
      "Name: label, dtype: int64 \n",
      "\n",
      "\n",
      "Classes distribution Figure(640x480)\n"
     ]
    },
    {
     "data": {
      "image/png": "[encoded data removed]",
      "text/plain": [
       "<Figure size 640x480 with 1 Axes>"
      ]
     },
     "metadata": {},
     "output_type": "display_data"
    }
   ],
   "source": [
    "show_info_data(dataF=data)"
   ]
  },
  {
   "cell_type": "markdown",
   "metadata": {},
   "source": [
    "Class upsampling балансирует классы: по -началу интересно посмотреть на данные которые сэмплируются и как с ними срабатывает балансировка"
   ]
  },
  {
   "cell_type": "code",
   "execution_count": 8,
   "metadata": {},
   "outputs": [
    {
     "data": {
      "text/plain": [
       "2    3931\n",
       "1    3885\n",
       "0    3782\n",
       "Name: label, dtype: int64"
      ]
     },
     "execution_count": 8,
     "metadata": {},
     "output_type": "execute_result"
    }
   ],
   "source": [
    "def class_upsampling(dataF: pd.DataFrame,\n",
    "                     sample_f: Union[None, float] = 0.5) -> pd.DataFrame:\n",
    "    \n",
    "    from sklearn.utils import resample\n",
    "\n",
    "    labels = dataF[dataF.columns[-1]]\n",
    "    max_value = max(labels.value_counts())\n",
    "    sample_result = []\n",
    "    \n",
    "    for classes in labels.unique():\n",
    "        data_w= dataF[labels == classes]\n",
    "\n",
    "        samples = resample(data_w, replace=True, n_samples=max_value, random_state=42)\n",
    "        sample_result.append(samples)\n",
    "    \n",
    "    data_s = pd.concat(sample_result)\n",
    "    if sample_f is None:\n",
    "        return data_s\n",
    "    else:\n",
    "        return data_s.sample(frac=sample_f, replace=True, random_state=13)\n",
    "   \n",
    "\n",
    "data_c = class_upsampling(data, sample_f=0.5)\n",
    "data_c[data_c.columns[-1]].value_counts()"
   ]
  },
  {
   "cell_type": "markdown",
   "metadata": {},
   "source": [
    "Смотрим на информацию о датасете, при сбалансированных классах"
   ]
  },
  {
   "cell_type": "code",
   "execution_count": 9,
   "metadata": {},
   "outputs": [
    {
     "name": "stdout",
     "output_type": "stream",
     "text": [
      "inforamtion about dataset: \n",
      "\n",
      "\n",
      "<class 'pandas.core.frame.DataFrame'>\n",
      "Int64Index: 11793 entries, 3818 to 10461\n",
      "Data columns (total 2 columns):\n",
      " #   Column  Non-Null Count  Dtype \n",
      "---  ------  --------------  ----- \n",
      " 0   text    11793 non-null  object\n",
      " 1   label   11793 non-null  int8  \n",
      "dtypes: int8(1), object(1)\n",
      "memory usage: 195.8+ KB\n",
      "\n",
      "\n",
      " unique classes names: \n",
      " [0 1 2] \n",
      "\n",
      "\n",
      "Value counts\n",
      "0    3931\n",
      "1    3931\n",
      "2    3931\n",
      "Name: label, dtype: int64 \n",
      "\n",
      "\n",
      "Classes distribution Figure(640x480)\n"
     ]
    },
    {
     "data": {
      "image/png": "[encoded data removed]",
      "text/plain": [
       "<Figure size 640x480 with 1 Axes>"
      ]
     },
     "metadata": {},
     "output_type": "display_data"
    }
   ],
   "source": [
    "data = class_upsampling(data_c, sample_f=None)\n",
    "show_info_data(dataF=data)"
   ]
  },
  {
   "cell_type": "markdown",
   "metadata": {},
   "source": [
    "Векторизуем данные"
   ]
  },
  {
   "cell_type": "code",
   "execution_count": 10,
   "metadata": {},
   "outputs": [],
   "source": [
    "def vectorize(dataF, sw: list = None, typeVec:str = 'TF-IDF', ngrams: tuple = (1,1))-> tuple:\n",
    "\n",
    "    if typeVec == 'TF-IDF':\n",
    "        vec = TfidfVectorizer(ngram_range=ngrams, stop_words=sw)\n",
    "        data_vec = vec.fit_transform(dataF)\n",
    "\n",
    "        return vec.get_feature_names_out(), data_vec\n",
    "\n",
    "    if typeVec == 'Count':\n",
    "        vec = CountVectorizer(ngram_range=ngrams, stop_words=sw)\n",
    "        data_vec = vec.fit_transform(dataF)\n",
    "\n",
    "        return vec.get_feature_names_out(), data_vec\n",
    "    \n",
    "features_names, X = vectorize(data['text'])\n",
    "y = data['label'].to_numpy()\n",
    "        "
   ]
  },
  {
   "cell_type": "markdown",
   "metadata": {},
   "source": [
    "Смотрим фичи"
   ]
  },
  {
   "cell_type": "code",
   "execution_count": 11,
   "metadata": {},
   "outputs": [
    {
     "data": {
      "text/plain": [
       "array(['aaas', 'aacitcwia', 'aakk', ..., 'zzh', 'zzz', 'zzzi'],\n",
       "      dtype=object)"
      ]
     },
     "execution_count": 11,
     "metadata": {},
     "output_type": "execute_result"
    }
   ],
   "source": [
    "features_names"
   ]
  },
  {
   "cell_type": "markdown",
   "metadata": {},
   "source": [
    "Разбиваем выборку на тестовую и тренировочную"
   ]
  },
  {
   "cell_type": "code",
   "execution_count": 12,
   "metadata": {},
   "outputs": [],
   "source": [
    "X_train, X_test, y_train, y_test = train_test_split(X.toarray(), y, train_size=0.8)"
   ]
  },
  {
   "cell_type": "markdown",
   "metadata": {},
   "source": [
    "Будет расспараллеливать N переданных моделей.\n",
    "Метод model_parallel_train выводит классификационные отчет\n",
    "и возвращает предсказанные метки класса"
   ]
  },
  {
   "cell_type": "code",
   "execution_count": 13,
   "metadata": {},
   "outputs": [],
   "source": [
    "def model_parallel_train(multimodel_train: list,\n",
    "                         data_x_train: Union[np.array, pd.DataFrame],\n",
    "                         data_y_train: Union[np.array, pd.Series],\n",
    "                         data_x_test: Union[np.array, pd.DataFrame],\n",
    "                         data_y_test: Union[np.array, pd.DataFrame],\n",
    "                         num_threads: int = 8):\n",
    "    \n",
    "    predict_results = []\n",
    "    from joblib import parallel_backend\n",
    "\n",
    "    with parallel_backend('threading', n_jobs=num_threads):\n",
    "        \n",
    "        for i in range(len(multimodel_train)):\n",
    "            model = multimodel_train[i]\n",
    "            model.fit(data_x_train, data_y_train)\n",
    "            data_y_predict = model.predict(data_x_test)\n",
    "            predict_results.append(data_y_predict)\n",
    "            print(f'report model {model} \\n',metrics.classification_report(data_y_test, data_y_predict), '\\n')\n",
    "        \n",
    "        return predict_results\n",
    "\n",
    "\n"
   ]
  },
  {
   "cell_type": "markdown",
   "metadata": {},
   "source": [
    "Формируем список из моделей и обучаем их на данных\n",
    "\n",
    "*Сохранение моделей - фича по усмотрению пользователя,можно добавить загрузку и выгрузку"
   ]
  },
  {
   "cell_type": "code",
   "execution_count": 14,
   "metadata": {},
   "outputs": [
    {
     "name": "stdout",
     "output_type": "stream",
     "text": [
      "report model BernoulliNB() \n",
      "               precision    recall  f1-score   support\n",
      "\n",
      "           0       0.91      0.91      0.91       780\n",
      "           1       0.84      0.95      0.89       786\n",
      "           2       0.94      0.82      0.87       793\n",
      "\n",
      "    accuracy                           0.89      2359\n",
      "   macro avg       0.90      0.89      0.89      2359\n",
      "weighted avg       0.90      0.89      0.89      2359\n",
      " \n",
      "\n",
      "report model GaussianNB() \n",
      "               precision    recall  f1-score   support\n",
      "\n",
      "           0       0.91      0.94      0.92       780\n",
      "           1       0.89      0.94      0.91       786\n",
      "           2       0.95      0.86      0.90       793\n",
      "\n",
      "    accuracy                           0.91      2359\n",
      "   macro avg       0.91      0.91      0.91      2359\n",
      "weighted avg       0.91      0.91      0.91      2359\n",
      " \n",
      "\n",
      "report model MultinomialNB() \n",
      "               precision    recall  f1-score   support\n",
      "\n",
      "           0       0.89      0.92      0.91       780\n",
      "           1       0.85      0.92      0.89       786\n",
      "           2       0.92      0.82      0.87       793\n",
      "\n",
      "    accuracy                           0.89      2359\n",
      "   macro avg       0.89      0.89      0.89      2359\n",
      "weighted avg       0.89      0.89      0.89      2359\n",
      " \n",
      "\n"
     ]
    },
    {
     "data": {
      "text/plain": [
       "[array([0, 2, 0, ..., 2, 1, 2], dtype=int8),\n",
       " array([0, 2, 0, ..., 2, 0, 2], dtype=int8),\n",
       " array([0, 2, 0, ..., 2, 0, 2], dtype=int8)]"
      ]
     },
     "execution_count": 14,
     "metadata": {},
     "output_type": "execute_result"
    }
   ],
   "source": [
    "multimodel_train = [BernoulliNB(), GaussianNB(), MultinomialNB()]\n",
    "model_parallel_train(multimodel_train, X_train,y_train,X_test,y_test)"
   ]
  },
  {
   "cell_type": "markdown",
   "metadata": {},
   "source": [
    "Сама лучшая моделька, в смысле равномерного F1-score показывает GaussianNB"
   ]
  }
 ],
 "metadata": {
  "kernelspec": {
   "display_name": "Python 3",
   "language": "python",
   "name": "python3"
  },
  "language_info": {
   "codemirror_mode": {
    "name": "ipython",
    "version": 3
   },
   "file_extension": ".py",
   "mimetype": "text/x-python",
   "name": "python",
   "nbconvert_exporter": "python",
   "pygments_lexer": "ipython3",
   "version": "3.9.13"
  }
 },
 "nbformat": 4,
 "nbformat_minor": 2
}
